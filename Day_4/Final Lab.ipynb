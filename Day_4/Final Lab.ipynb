{
 "cells": [
  {
   "cell_type": "markdown",
   "id": "3b9cc0d7",
   "metadata": {},
   "source": [
    "# Intro to AI Final Lab\n",
    "\n",
    "We've covered many new subjects in this course. Now it's time to put your knowlege to the test. We'll be using a sample of a credit card transaction dataset from [kaggle](https://www.kaggle.com/datasets/mlg-ulb/creditcardfraud?resource=download)\n",
    "\n",
    "You are tasked with **classifying** transactions as fraudulent or not. Use multiple machine learning methods introduced in the course. Start with a Logistic Regression and then try to improve it by clustering your feature data and adding the cluster labels as a feature themself. Compare results and report which model is your best estimator. \n",
    "\n",
    "\n",
    "Using `creditcard_transactions.csv` provided in the data folder, do the following:\n",
    "> 1. Install & import all necessary tools into your notebook\n",
    "> 1. Read in your dataset\n",
    "> 1. Get an understanding of the distribution of each column (5 number summaries i.e. \"describe\" it!)\n",
    "> 1. Visualize your data\n",
    "> 1. Create a correlation matrix and write down any features that look like they could be correlated\n",
    "> 1. Define your features, X, and your target, y\n",
    "> 1. Split your data into a training set and a testing set\n",
    "> 1. Build a logistic regression model\n",
    "> 1. Evaluate your model's performance \n",
    "> 1. Now, using k-means cluster your features and add the cluster labels to X as an additional feature\n",
    "> 1. Re-run logistic regression with the new feature and see if your results improved in the evaluation step\n",
    "\n",
    "**Bonus:** try either of the other 2 classifiers we showed in class, Neural Networks or KNN. If you're feeling especially bold feel free to try a new classifier, [Random Forest](https://scikit-learn.org/stable/modules/generated/sklearn.ensemble.RandomForestClassifier.html)\n"
   ]
  },
  {
   "cell_type": "markdown",
   "id": "9b094b05",
   "metadata": {},
   "source": [
    "#### Install & import all necessary tools into your notebook"
   ]
  },
  {
   "cell_type": "code",
   "execution_count": null,
   "id": "c68a6c10",
   "metadata": {},
   "outputs": [],
   "source": [
    "# pip installs if needed"
   ]
  },
  {
   "cell_type": "code",
   "execution_count": null,
   "id": "c44939e5",
   "metadata": {},
   "outputs": [],
   "source": [
    "#imports "
   ]
  },
  {
   "cell_type": "markdown",
   "id": "16186b09",
   "metadata": {},
   "source": [
    "#### Read in your dataset"
   ]
  },
  {
   "cell_type": "code",
   "execution_count": null,
   "id": "f70d25ab",
   "metadata": {},
   "outputs": [],
   "source": []
  },
  {
   "cell_type": "markdown",
   "id": "e3c13b97",
   "metadata": {},
   "source": [
    "#### Get an understanding of the distribution of each column (5 number summaries i.e. \"describe\" it!)"
   ]
  },
  {
   "cell_type": "code",
   "execution_count": null,
   "id": "13f57413",
   "metadata": {},
   "outputs": [],
   "source": []
  },
  {
   "cell_type": "markdown",
   "id": "674cd085",
   "metadata": {},
   "source": [
    "#### Visualize your data"
   ]
  },
  {
   "cell_type": "code",
   "execution_count": null,
   "id": "a6c5afa8",
   "metadata": {},
   "outputs": [],
   "source": []
  },
  {
   "cell_type": "markdown",
   "id": "bbfb5434",
   "metadata": {},
   "source": [
    "#### Create a correlation matrix and write down any features that look like they could be correlated"
   ]
  },
  {
   "cell_type": "code",
   "execution_count": null,
   "id": "38e117db",
   "metadata": {},
   "outputs": [],
   "source": []
  },
  {
   "cell_type": "markdown",
   "id": "302370e0",
   "metadata": {},
   "source": [
    "#### Define your features, X, and your target, y"
   ]
  },
  {
   "cell_type": "code",
   "execution_count": null,
   "id": "31bc4355",
   "metadata": {},
   "outputs": [],
   "source": []
  },
  {
   "cell_type": "markdown",
   "id": "907bde1d",
   "metadata": {},
   "source": [
    "#### Split your data into a training set and a testing set"
   ]
  },
  {
   "cell_type": "code",
   "execution_count": null,
   "id": "823e5407",
   "metadata": {},
   "outputs": [],
   "source": []
  },
  {
   "cell_type": "markdown",
   "id": "622287c4",
   "metadata": {},
   "source": [
    "#### Build a logistic regression model"
   ]
  },
  {
   "cell_type": "code",
   "execution_count": null,
   "id": "c0a3dd64",
   "metadata": {},
   "outputs": [],
   "source": []
  },
  {
   "cell_type": "markdown",
   "id": "76c1df90",
   "metadata": {},
   "source": [
    "#### Evaluate your model's performance "
   ]
  },
  {
   "cell_type": "code",
   "execution_count": null,
   "id": "a3475630",
   "metadata": {},
   "outputs": [],
   "source": []
  },
  {
   "cell_type": "markdown",
   "id": "714597c3",
   "metadata": {},
   "source": [
    "#### Now, using k-means cluster your features and add the cluster labels to X as an additional feature"
   ]
  },
  {
   "cell_type": "code",
   "execution_count": null,
   "id": "a8bd62b0",
   "metadata": {},
   "outputs": [],
   "source": []
  },
  {
   "cell_type": "markdown",
   "id": "c753d680",
   "metadata": {},
   "source": [
    "#### Re-run logistic regression with the new feature and see if your results improved in the evaluation step"
   ]
  },
  {
   "cell_type": "code",
   "execution_count": null,
   "id": "2bf0957e",
   "metadata": {},
   "outputs": [],
   "source": []
  },
  {
   "cell_type": "markdown",
   "id": "0aa37bea",
   "metadata": {},
   "source": [
    "**Bonus:** try either of the other 2 classifiers we showed in class, Neural Networks or KNN. If you're feeling especially bold feel free to try a new classifier, [Random Forest](https://scikit-learn.org/stable/modules/generated/sklearn.ensemble.RandomForestClassifier.html)"
   ]
  },
  {
   "cell_type": "code",
   "execution_count": null,
   "id": "00ec4434",
   "metadata": {},
   "outputs": [],
   "source": []
  }
 ],
 "metadata": {
  "kernelspec": {
   "display_name": "Python 3 (ipykernel)",
   "language": "python",
   "name": "python3"
  },
  "language_info": {
   "codemirror_mode": {
    "name": "ipython",
    "version": 3
   },
   "file_extension": ".py",
   "mimetype": "text/x-python",
   "name": "python",
   "nbconvert_exporter": "python",
   "pygments_lexer": "ipython3",
   "version": "3.9.17"
  }
 },
 "nbformat": 4,
 "nbformat_minor": 5
}
